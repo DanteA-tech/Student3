{
 "cells": [
  {
   "cell_type": "code",
   "execution_count": 4,
   "metadata": {},
   "outputs": [
    {
     "name": "stdout",
     "output_type": "stream",
     "text": [
      "Welcome to the Python Quiz!\n",
      "\n",
      "What is Python's primary use?\n",
      "A. Web development\n",
      "B. Data analysis\n",
      "C. Space exploration\n",
      "D. Music production\n",
      "Correct!\n",
      "\n",
      "Which of the following is a Python framework for web development?\n",
      "A. Django\n",
      "B. Angular\n",
      "C. Spring Boot\n",
      "D. Ruby on Rails\n",
      "Correct!\n",
      "\n",
      "What symbol is used for comments in Python?\n",
      "A. //\n",
      "B. /*\n",
      "C. #\n",
      "D. --\n",
      "Correct!\n",
      "\n",
      "What is the output of 'print(3 + 2 * 5)'?\n",
      "A. 13\n",
      "B. 25\n",
      "C. 7\n",
      "D. 103\n",
      "Wrong! The correct answer is: A\n",
      "\n",
      "You scored 3 out of 4.\n"
     ]
    }
   ],
   "source": [
    "def run_quiz():\n",
    "    questions = [\n",
    "        {\n",
    "            \"question\": \"What is Python's primary use?\",\n",
    "            \"options\": [\"A. Web development\", \"B. Data analysis\", \"C. Space exploration\", \"D. Music production\"],\n",
    "            \"correct_answer\": \"B\"\n",
    "        },\n",
    "        {\n",
    "            \"question\": \"Which of the following is a Python framework for web development?\",\n",
    "            \"options\": [\"A. Django\", \"B. Angular\", \"C. Spring Boot\", \"D. Ruby on Rails\"],\n",
    "            \"correct_answer\": \"A\"\n",
    "        },\n",
    "        {\n",
    "            \"question\": \"What symbol is used for comments in Python?\",\n",
    "            \"options\": [\"A. //\", \"B. /*\", \"C. #\", \"D. --\"],\n",
    "            \"correct_answer\": \"C\"\n",
    "        },\n",
    "        {\n",
    "            \"question\": \"What is the output of 'print(3 + 2 * 5)'?\",\n",
    "            \"options\": [\"A. 13\", \"B. 25\", \"C. 7\", \"D. 103\"],\n",
    "            \"correct_answer\": \"A\"\n",
    "        }\n",
    "    ]\n",
    "\n",
    "    score = 0\n",
    "\n",
    "    for question in questions:\n",
    "        print(question[\"question\"])\n",
    "        for option in question[\"options\"]:\n",
    "            print(option)\n",
    "        user_answer = input(\"Enter your answer (A, B, C, or D): \").strip().upper()\n",
    "        if user_answer == question[\"correct_answer\"]:\n",
    "            print(\"Correct!\\n\")\n",
    "            score += 1\n",
    "        else:\n",
    "            print(f\"Wrong! The correct answer is: {question['correct_answer']}\\n\")\n",
    "\n",
    "    print(f\"You scored {score} out of {len(questions)}.\")\n",
    "\n",
    "if __name__ == \"__main__\":\n",
    "    print(\"Welcome to the Python Quiz!\\n\")\n",
    "    run_quiz()\n"
   ]
  }
 ],
 "metadata": {
  "kernelspec": {
   "display_name": "Python 3",
   "language": "python",
   "name": "python3"
  },
  "language_info": {
   "codemirror_mode": {
    "name": "ipython",
    "version": 3
   },
   "file_extension": ".py",
   "mimetype": "text/x-python",
   "name": "python",
   "nbconvert_exporter": "python",
   "pygments_lexer": "ipython3",
   "version": "3.11.4"
  },
  "orig_nbformat": 4
 },
 "nbformat": 4,
 "nbformat_minor": 2
}
