{
 "cells": [
  {
   "cell_type": "code",
   "execution_count": null,
   "metadata": {},
   "outputs": [],
   "source": [
    "Importance of quality code:\n",
    "Quality code is the bedrock of software development, serving as the foundation upon which reliable \n",
    "and efficient applications are built. The significance of quality code cannot be overstated, as it \n",
    "directly influences the occurrence of errors and their impact. Well-crafted code, characterized by\n",
    " clean structure, meaningful comments, and adherence to best practices, minimizes the likelihood of \n",
    " bugs and logic errors. It promotes easier debugging, maintenance, and collaboration among developers,\n",
    "  ultimately resulting in software that not only functions as intended but also remains resilient and \n",
    "  adaptable as it evolves. In essence, quality code is the shield against the chaos of errors, \n",
    "  ensuring smoother development processes and more robust, dependable software.\n"
   ]
  },
  {
   "cell_type": "code",
   "execution_count": 1,
   "metadata": {
    "vscode": {
     "languageId": "javascript"
    }
   },
   "outputs": [
    {
     "data": {
      "application/javascript": "\n// assign variable\nvar hello = \"Hello World\";\nconsole.log(\"variable: hello\")\nconsole.log(hello)\n\n// seeing the type of this data\nconsole.log(\"variable: hello check typeof\")\nconsole.log(typeof hello)\n\n// add strings together\nconsole.log(\"string concatenation: hello + Rohan!\")\nconsole.log(hello + \" Rohan!\")\n",
      "text/plain": [
       "<IPython.core.display.Javascript object>"
      ]
     },
     "metadata": {},
     "output_type": "display_data"
    }
   ],
   "source": [
    "%%js\n",
    "\n",
    "// assign variable\n",
    "var hello = \"Hello World\";\n",
    "console.log(\"variable: hello\")\n",
    "console.log(hello)\n",
    "\n",
    "// seeing the type of this data\n",
    "console.log(\"variable: hello check typeof\")\n",
    "console.log(typeof hello)\n",
    "\n",
    "// add strings together\n",
    "console.log(\"string concatenation: hello + Rohan!\")\n",
    "console.log(hello + \" Rohan!\")\n"
   ]
  },
  {
   "cell_type": "code",
   "execution_count": 12,
   "metadata": {},
   "outputs": [
    {
     "name": "stdout",
     "output_type": "stream",
     "text": [
      "Test passed successfully!\n",
      "Test passed successfully!\n"
     ]
    }
   ],
   "source": [
    "def basic_tester(test_function):\n",
    "    try:\n",
    "        test_function()\n",
    "        print(\"Test passed successfully!\")\n",
    "    except Exception as e:\n",
    "        print(f\"Test failed: {e}\")\n",
    "\n",
    "# Example usage of the basic tester function\n",
    "def add_numbers_test():\n",
    "    result = 2 + 2\n",
    "    assert result == 4, \"2 + 2 should equal 4\"\n",
    "\n",
    "def divide_numbers_test():\n",
    "    result = 10 / 2\n",
    "    assert result == 5, \"10 / 2 should equal 5\"\n",
    "\n",
    "if __name__ == \"__main__\":\n",
    "    basic_tester(add_numbers_test)\n",
    "    basic_tester(divide_numbers_test)\n"
   ]
  },
  {
   "cell_type": "code",
   "execution_count": 13,
   "metadata": {},
   "outputs": [
    {
     "name": "stdout",
     "output_type": "stream",
     "text": [
      "6 is even.\n"
     ]
    }
   ],
   "source": [
    "# Input number\n",
    "number = int(input(\"Enter a number: \"))\n",
    "\n",
    "# Check if the number is even or odd\n",
    "if number % 2 == 0:\n",
    "    print(f\"{number} is even.\")\n",
    "else:\n",
    "    print(f\"{number} is odd.\")\n"
   ]
  },
  {
   "cell_type": "code",
   "execution_count": 15,
   "metadata": {},
   "outputs": [
    {
     "name": "stdout",
     "output_type": "stream",
     "text": [
      "Successfully converted to integer: 5\n"
     ]
    }
   ],
   "source": [
    "try:\n",
    "    # Input a number from the user\n",
    "    number_str = input(\"Enter a number: \")\n",
    "\n",
    "    # Attempt to convert the input to an integer\n",
    "    number = int(number_str)\n",
    "\n",
    "    # Print the converted number\n",
    "    print(f\"Successfully converted to integer: {number}\")\n",
    "except ValueError as e:\n",
    "    print(f\"Error: {e}. Please enter a valid integer.\")\n"
   ]
  }
 ],
 "metadata": {
  "kernelspec": {
   "display_name": "Python 3",
   "language": "python",
   "name": "python3"
  },
  "language_info": {
   "codemirror_mode": {
    "name": "ipython",
    "version": 3
   },
   "file_extension": ".py",
   "mimetype": "text/x-python",
   "name": "python",
   "nbconvert_exporter": "python",
   "pygments_lexer": "ipython3",
   "version": "3.11.5"
  },
  "orig_nbformat": 4
 },
 "nbformat": 4,
 "nbformat_minor": 2
}
