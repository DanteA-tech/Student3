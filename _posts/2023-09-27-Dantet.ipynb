{
 "cells": [
  {
   "cell_type": "code",
   "execution_count": 2,
   "metadata": {
    "vscode": {
     "languageId": "javascript"
    }
   },
   "outputs": [
    {
     "ename": "SyntaxError",
     "evalue": "invalid syntax (2202003873.py, line 1)",
     "output_type": "error",
     "traceback": [
      "\u001b[0;36m  Cell \u001b[0;32mIn[2], line 1\u001b[0;36m\u001b[0m\n\u001b[0;31m    const person = {\u001b[0m\n\u001b[0m          ^\u001b[0m\n\u001b[0;31mSyntaxError\u001b[0m\u001b[0;31m:\u001b[0m invalid syntax\n"
     ]
    }
   ],
   "source": [
    "const person = {\n",
    "    name: \"John Doe\",\n",
    "    age: 30,\n",
    "    currentClasses: [\"Mathematics\", \"Computer Science\"],\n",
    "    interests: [\"Reading\", \"Hiking\", \"Cooking\"],\n",
    "    location: \"New York\",\n",
    "    favoriteNumber: 42,\n",
    "  };\n",
    "  \n",
    "  // Print the entire object\n",
    "  console.log(\"Initial Person Object:\");\n",
    "  console.log(person);\n",
    "  \n",
    "  // Manipulate the arrays within the object\n",
    "  person.interests.push(\"Programming\");\n",
    "  person.currentClasses.pop();\n",
    "  \n",
    "  // Print the modified object and the specific changed key\n",
    "  console.log(\"\\nModified Person Object:\");\n",
    "  console.log(person);\n",
    "  console.log(\"Changed key 'interests':\", person.interests);\n",
    "  console.log(\"Changed key 'currentClasses':\", person.currentClasses);\n",
    "  \n",
    "  // Perform mathematical operations on fields\n",
    "  const ageIn5Years = person.age + 5;\n",
    "  const doubledFavoriteNumber = person.favoriteNumber * 2;\n",
    "  const halfAge = person.age / 2;\n",
    "  \n",
    "  console.log(\"\\nMathematical Operations:\");\n",
    "  console.log(`In 5 years, age will be: ${ageIn5Years}`);\n",
    "  console.log(`Favorite number doubled is: ${doubledFavoriteNumber}`);\n",
    "  console.log(`Half of the age is: ${halfAge}`);\n",
    "  \n",
    "  // Use typeof to determine field types\n",
    "  const nameType = typeof person.name;\n",
    "  const interestsType = typeof person.interests;\n",
    "  const locationType = typeof person.location;\n",
    "  \n",
    "  console.log(\"\\nData Types:\");\n",
    "  console.log(`Type of 'name': ${nameType}`);\n",
    "  console.log(`Type of 'interests': ${interestsType}`);\n",
    "  console.log(`Type of 'location': ${locationType}`);\n",
    "  "
   ]
  }
 ],
 "metadata": {
  "kernelspec": {
   "display_name": "Python 3",
   "language": "python",
   "name": "python3"
  },
  "language_info": {
   "codemirror_mode": {
    "name": "ipython",
    "version": 3
   },
   "file_extension": ".py",
   "mimetype": "text/x-python",
   "name": "python",
   "nbconvert_exporter": "python",
   "pygments_lexer": "ipython3",
   "version": "3.11.5"
  },
  "orig_nbformat": 4
 },
 "nbformat": 4,
 "nbformat_minor": 2
}
